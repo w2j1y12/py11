{
  "nbformat": 4,
  "nbformat_minor": 0,
  "metadata": {
    "colab": {
      "name": "ch5_exercises_py11.ipynb",
      "provenance": [],
      "collapsed_sections": [],
      "toc_visible": true,
      "include_colab_link": true
    },
    "kernelspec": {
      "name": "python3",
      "display_name": "Python 3"
    }
  },
  "cells": [
    {
      "cell_type": "markdown",
      "metadata": {
        "id": "view-in-github",
        "colab_type": "text"
      },
      "source": [
        "<a href=\"https://colab.research.google.com/github/w2j1y12/py11/blob/master/notebook/ch5_exercises_py11.ipynb\" target=\"_parent\"><img src=\"https://colab.research.google.com/assets/colab-badge.svg\" alt=\"Open In Colab\"/></a>"
      ]
    },
    {
      "cell_type": "markdown",
      "metadata": {
        "id": "ovY5jkD5dpxE",
        "colab_type": "text"
      },
      "source": [
        "## ch5_exercises_py11.ipynb"
      ]
    },
    {
      "cell_type": "markdown",
      "metadata": {
        "id": "SZw6UnxQWYBe",
        "colab_type": "text"
      },
      "source": [
        "## Q1.\n",
        "> 다음은 Calculator 클래스이다.\n",
        "\n",
        "```\n",
        "class Calculator:\n",
        "    def __init__(self):\n",
        "        self.value = 0\n",
        "\n",
        "    def add(self, val):\n",
        "        self.value += val\n",
        "```\n",
        "---\n",
        "> 위 클래스를 상속하는 UpgradeCalculator를 만들고 값을 뺄 수 있는 minus 메서드를 추가해 보자. \n",
        ">> 즉 다음과 같이 동작하는 클래스를 만들어야 한다.\n",
        "```\n",
        "cal = UpgradeCalculator()\n",
        "cal.add(10)\n",
        "cal.minus(7)\n",
        "print(cal.value) # 10에서 7을 뺀 3을 출력\n",
        "```\n"
      ]
    },
    {
      "cell_type": "code",
      "metadata": {
        "id": "rUNNaqJPdg7B",
        "colab_type": "code",
        "outputId": "3f739258-e458-4b99-fdd8-40bb9478e178",
        "colab": {
          "base_uri": "https://localhost:8080/",
          "height": 35
        }
      },
      "source": [
        "# [Q1] Code 1\n",
        "\n",
        "class Calculator:\n",
        "  def __init__(self):\n",
        "    self.value = 0 \n",
        "\n",
        "  def add(self, val):\n",
        "    self.value += val \n",
        "\n",
        "class UpgradeCalculator(Calculator): # Calculator 상속하는 클래스임.\n",
        "  def minus(self, val):\n",
        "    self.value -= val\n",
        "\n",
        "cal = UpgradeCalculator()\n",
        "cal.add(10) # 0 + 10\n",
        "cal.minus(7) # 10 - 3\n",
        "print(cal.value) # 10에서 7을 뺀 3을 출력"
      ],
      "execution_count": 0,
      "outputs": [
        {
          "output_type": "stream",
          "text": [
            "3\n"
          ],
          "name": "stdout"
        }
      ]
    },
    {
      "cell_type": "markdown",
      "metadata": {
        "colab_type": "text",
        "id": "re2-XrUYXF1m"
      },
      "source": [
        "## Q2.\n",
        "> 객체변수 value가 100 이상의 값은 가질 수 없도록 제한하는 MaxLimitCalculator 클래스를 만들어 보자. \n",
        ">> 즉 다음과 같이 동작해야 한다.\n",
        "```\n",
        "cal = MaxLimitCalculator()\n",
        "cal.add(50) # 50 더하기\n",
        "cal.add(60) # 60 더하기\n",
        "print(cal.value) # 100 출력\n",
        "```\n",
        ">> 단 반드시 다음과 같은 Calculator 클래스를 상속해서 만들어야 한다.\n",
        "```\n",
        "class Calculator:\n",
        "    def __init__(self):\n",
        "        self.value = 0\n",
        "    def add(self, val):\n",
        "        self.value += val\n",
        "```"
      ]
    },
    {
      "cell_type": "code",
      "metadata": {
        "colab_type": "code",
        "id": "5MBLUZ5WXF1q",
        "outputId": "e8c8e0f6-75a2-4918-b7e9-6143700f89a1",
        "colab": {
          "base_uri": "https://localhost:8080/",
          "height": 53
        }
      },
      "source": [
        "# [Q2] Code\n",
        "\n",
        "class Calculator:\n",
        "    def __init__(self):\n",
        "        self.value = 0\n",
        "    def add(self, val):\n",
        "        self.value += val\n",
        "\n",
        "class MaxLimitCalculator(Calculator):\n",
        "  def add(self, val):\n",
        "    self.value += val\n",
        "    \n",
        "    if self.value > 100: # 만약 100 이상이면 \n",
        "      self.value = 100 # 100 출력\n",
        "      print(\"100이상의 값은 가질 수 없습니다.\")\n",
        "\n",
        "cal = MaxLimitCalculator() # MaxLimitCalculator을 변수 cal에 호출\n",
        "cal.add(50) # 50 더하기\n",
        "cal.add(60) # 60 더하기\n",
        "print(cal.value) # 100 출력"
      ],
      "execution_count": 0,
      "outputs": [
        {
          "output_type": "stream",
          "text": [
            "100이상의 값은 가질 수 없습니다.\n",
            "100\n"
          ],
          "name": "stdout"
        }
      ]
    },
    {
      "cell_type": "markdown",
      "metadata": {
        "colab_type": "text",
        "id": "UZy8lu_BXGnT"
      },
      "source": [
        "## Q3.\n",
        "> 다음 결과를 예측해 보자.\n",
        "\n",
        "- 하나.\n",
        "```\n",
        "all([1, 2, abs(-3)-3])\n",
        "```\n",
        "\n",
        "- 둘.\n",
        "```\n",
        "chr(ord('a')) == 'a'\n",
        "```"
      ]
    },
    {
      "cell_type": "code",
      "metadata": {
        "colab_type": "code",
        "id": "H9T_sXHzXGnW",
        "outputId": "94c38a9d-03db-4a3b-d334-8afc838be579",
        "colab": {
          "base_uri": "https://localhost:8080/",
          "height": 35
        }
      },
      "source": [
        "# abs()는 수를 입력받았을 때, 그 수의 절대값을 돌려줌.\n",
        "# all()은 모두 참이면 True, 거짓이 하나라도 있으면 False 돌려줌.\n",
        "\n",
        "# abs(-3)-3은 3-3이므로 0임.\n",
        "\n",
        "# 따라서, 리스트의 요소값에 0이 생겼으므로 False 출력\n",
        "\n",
        "all([1, 2, abs(-3)-3])"
      ],
      "execution_count": 0,
      "outputs": [
        {
          "output_type": "execute_result",
          "data": {
            "text/plain": [
              "False"
            ]
          },
          "metadata": {
            "tags": []
          },
          "execution_count": 4
        }
      ]
    },
    {
      "cell_type": "code",
      "metadata": {
        "id": "WE6-avfKWx2y",
        "colab_type": "code",
        "outputId": "4123c906-9f85-4ad5-a7d2-f46b0b880d2c",
        "colab": {
          "base_uri": "https://localhost:8080/",
          "height": 35
        }
      },
      "source": [
        "# chr(x)는 x에 맞는 아스키코드를 돌려줌.\n",
        "# ord(x)는 chr과 반대로 아스키코드에 맞는 번호를 돌려줌.\n",
        "\n",
        "# ord('a')를 사용하여 97 돌려받음.\n",
        "# 돌려받아 chr(97)은 a를 돌려줌.\n",
        "\n",
        "# 따라서, chr(ord('a')) == 'a'는 True\n",
        "\n",
        "chr(ord('a')) == 'a'"
      ],
      "execution_count": 0,
      "outputs": [
        {
          "output_type": "execute_result",
          "data": {
            "text/plain": [
              "True"
            ]
          },
          "metadata": {
            "tags": []
          },
          "execution_count": 5
        }
      ]
    },
    {
      "cell_type": "markdown",
      "metadata": {
        "colab_type": "text",
        "id": "fqypxxqTXHY7"
      },
      "source": [
        "## Q4.\n",
        "> filter와 lambda를 사용하여 리스트 [1, -2, 3, -5, 8, -3]에서 음수를 모두 제거해 보자."
      ]
    },
    {
      "cell_type": "code",
      "metadata": {
        "colab_type": "code",
        "id": "oQ5UnmayXHY-",
        "outputId": "ca17290b-13a5-4f38-e58c-f4c901b1db01",
        "colab": {
          "base_uri": "https://localhost:8080/",
          "height": 35
        }
      },
      "source": [
        "# [Q4] Code 1 - filter 사용하지 않은 함수\n",
        "\n",
        "def positive(l):\n",
        "  result =[]#반환값이 참인 것만 걸러내서 저장할 변수\n",
        "  for i in l:\n",
        "    if i>0:\n",
        "      result.append(i)\n",
        "  return result\n",
        "\n",
        "print(positive([1,-2,-3,-5, 8, -3]))"
      ],
      "execution_count": 0,
      "outputs": [
        {
          "output_type": "stream",
          "text": [
            "[1, 8]\n"
          ],
          "name": "stdout"
        }
      ]
    },
    {
      "cell_type": "code",
      "metadata": {
        "id": "8sEnczhKcjmj",
        "colab_type": "code",
        "outputId": "9ed4696d-843c-49a0-db50-130a8f38cc63",
        "colab": {
          "base_uri": "https://localhost:8080/",
          "height": 35
        }
      },
      "source": [
        "# [Q4] Code 2 - filter만 사용\n",
        "\n",
        "def positive(x):\n",
        "    return x > 0\n",
        "\n",
        "list(filter(positive, [1,-2,-3,-5, 8, -3]))"
      ],
      "execution_count": 0,
      "outputs": [
        {
          "output_type": "execute_result",
          "data": {
            "text/plain": [
              "[1, 8]"
            ]
          },
          "metadata": {
            "tags": []
          },
          "execution_count": 11
        }
      ]
    },
    {
      "cell_type": "code",
      "metadata": {
        "id": "AJQU69OWcs-Z",
        "colab_type": "code",
        "outputId": "53d89352-dfb4-4fb4-807b-8fc681e2a3bc",
        "colab": {
          "base_uri": "https://localhost:8080/",
          "height": 35
        }
      },
      "source": [
        "# [Q4] Code 3 - filter와 lambda 둘 다 사용\n",
        "\n",
        "list(filter(lambda x:x>0,[1,-2,-3,-5, 8, -3]))"
      ],
      "execution_count": 0,
      "outputs": [
        {
          "output_type": "execute_result",
          "data": {
            "text/plain": [
              "[1, 8]"
            ]
          },
          "metadata": {
            "tags": []
          },
          "execution_count": 12
        }
      ]
    },
    {
      "cell_type": "markdown",
      "metadata": {
        "colab_type": "text",
        "id": "NKsvciXZXIL-"
      },
      "source": [
        "## Q5.\n",
        "> 234라는 10진수의 16진수는 다음과 같이 구할 수 있다.\n",
        "```\n",
        "hex(234)\n",
        "'0xea'\n",
        "```\n",
        "> 이번에는 반대로 16진수 문자열 0xea를 10진수로 변경해 보자.\n",
        ">>※ 내장 함수 int를 활용해 보자.\n"
      ]
    },
    {
      "cell_type": "code",
      "metadata": {
        "colab_type": "code",
        "id": "5MZQYOVjXIL_",
        "outputId": "03d6ca42-67da-4fa5-e718-df69b663f79e",
        "colab": {
          "base_uri": "https://localhost:8080/",
          "height": 35
        }
      },
      "source": [
        "# [Q5] Code\n",
        "\n",
        "int('0xea',16)\n",
        "# 16진수를 10진수로 바꾸어 돌려주는 int 내장함수"
      ],
      "execution_count": 0,
      "outputs": [
        {
          "output_type": "execute_result",
          "data": {
            "text/plain": [
              "234"
            ]
          },
          "metadata": {
            "tags": []
          },
          "execution_count": 13
        }
      ]
    },
    {
      "cell_type": "markdown",
      "metadata": {
        "colab_type": "text",
        "id": "-3KHtOOoXJBV"
      },
      "source": [
        "## Q6.\n",
        "> map과 lambda를 사용하여 [1, 2, 3, 4] 리스트의 각 요솟값에 3이 곱해진 리스트 [3, 6, 9, 12]를 만들어 보자.\n"
      ]
    },
    {
      "cell_type": "code",
      "metadata": {
        "colab_type": "code",
        "id": "AjYR0lUaXJBa",
        "colab": {}
      },
      "source": [
        "# [Q6] Code 1 - map과 lambda 둘 다 사용\n",
        "\n",
        "list(map(lambda x:x*3,[1,2,3,4]))\n"
      ],
      "execution_count": 0,
      "outputs": []
    },
    {
      "cell_type": "code",
      "metadata": {
        "id": "7ActSnOcdjO6",
        "colab_type": "code",
        "colab": {}
      },
      "source": [
        "# [Q6] Code 2 - for문 사용\n",
        "\n",
        "a=[1,2,3,4]\n",
        "\n",
        "result =[]\n",
        "for n in a:\n",
        "    result.append(n*3)\n",
        "print(result)"
      ],
      "execution_count": 0,
      "outputs": []
    },
    {
      "cell_type": "markdown",
      "metadata": {
        "colab_type": "text",
        "id": "YrS3b88QbmKo"
      },
      "source": [
        "## Q7.\n",
        "> 다음 리스트의 최댓값과 최솟값의 합을 구해 보자.\n",
        ">> [-8, 2, 7, 5, -3, 5, 0, 1]"
      ]
    },
    {
      "cell_type": "code",
      "metadata": {
        "colab_type": "code",
        "id": "Ll_2InMWbmKq",
        "outputId": "b9fd41b3-3e9e-47af-cf57-6956ead4d8f3",
        "colab": {
          "base_uri": "https://localhost:8080/",
          "height": 35
        }
      },
      "source": [
        "# [Q7] Code\n",
        "\n",
        "# 최댓값을 돌려주는 함수 max와 최솟값을 돌려주는 함수 min 사용\n",
        "\n",
        "a = max([-8, 2, 7, 5, -3, 5, 0, 1])\n",
        "b = min([-8, 2, 7, 5, -3, 5, 0, 1])\n",
        "\n",
        "print(a + b)"
      ],
      "execution_count": 0,
      "outputs": [
        {
          "output_type": "stream",
          "text": [
            "-1\n"
          ],
          "name": "stdout"
        }
      ]
    },
    {
      "cell_type": "markdown",
      "metadata": {
        "colab_type": "text",
        "id": "OcSDHHYkK6lZ"
      },
      "source": [
        "## Q8.\n",
        "> 17 / 3의 결과는 다음과 같다.\n",
        "```\n",
        "17 / 3\n",
        "5.666666666666667\n",
        "```\n",
        "> 위와 같은 결괏값 5.666666666666667을 소숫점 4자리까지만 반올림하여 표시해 보자."
      ]
    },
    {
      "cell_type": "code",
      "metadata": {
        "colab_type": "code",
        "id": "GmaaVGqrK6le",
        "outputId": "b4cfac9a-de3e-4c09-ebaf-ff4a36baa7ce",
        "colab": {
          "base_uri": "https://localhost:8080/",
          "height": 35
        }
      },
      "source": [
        "# [Q8] Code 1 - round함수 사용\n",
        "\n",
        "# round(number[, ndigits]) 함수는 숫자를 입력받아 반올림해 주는 함수\n",
        "round(17 / 3,4)"
      ],
      "execution_count": 0,
      "outputs": [
        {
          "output_type": "execute_result",
          "data": {
            "text/plain": [
              "5.6667"
            ]
          },
          "metadata": {
            "tags": []
          },
          "execution_count": 15
        }
      ]
    },
    {
      "cell_type": "code",
      "metadata": {
        "id": "zxKGBo3teYo9",
        "colab_type": "code",
        "outputId": "8bfe27be-31d3-4bf9-8e86-801b05d8dd0e",
        "colab": {
          "base_uri": "https://localhost:8080/",
          "height": 35
        }
      },
      "source": [
        "# [Q8] Code 2 - 출력할 때 변환\n",
        "\n",
        "a=17/3\n",
        "print(\"%.4f\" %a)"
      ],
      "execution_count": 0,
      "outputs": [
        {
          "output_type": "stream",
          "text": [
            "5.6667\n"
          ],
          "name": "stdout"
        }
      ]
    },
    {
      "cell_type": "markdown",
      "metadata": {
        "colab_type": "text",
        "id": "anwB_DjuK60j"
      },
      "source": [
        "## Q9.\n",
        "> 다음과 같이 실행할 때 입력값을 모두 더하여 출력하는 스크립트\n",
        "\n",
        "> (C:\\doit\\myargv.py)를 작성해 보자.\n",
        "```\n",
        "C:\\> cd doit\n",
        "C:\\doit> python myargv.py 1 2 3 4 5 6 7 8 9 10\n",
        "55\n",
        "```\n",
        ">> ※ 외장 함수 sys.argv를 사용해 보자."
      ]
    },
    {
      "cell_type": "code",
      "metadata": {
        "id": "5cU6fArKlLyH",
        "colab_type": "code",
        "colab": {}
      },
      "source": [
        "# [Q9] Code\n",
        "\n",
        "import sys \n",
        "\n",
        "numbers = sys.argv[1:] # 파일 이름을 제외한 명령 행의 모든 입력\n",
        "\n",
        "result = 0\n",
        "for number in numbers:\n",
        "    result += int(number)  # 값을 int형으로 바꿈 -> 더하기\n",
        "print(result) "
      ],
      "execution_count": 0,
      "outputs": []
    },
    {
      "cell_type": "markdown",
      "metadata": {
        "id": "PVqoE6P0mWow",
        "colab_type": "text"
      },
      "source": [
        "![image.png](data:image/png;base64,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)"
      ]
    },
    {
      "cell_type": "markdown",
      "metadata": {
        "colab_type": "text",
        "id": "PVA_-b0TK7Ai"
      },
      "source": [
        "## Q10.\n",
        "> os 모듈을 사용하여 다음과 같이 동작하도록 코드를 작성해 보자.\n",
        "\n",
        "1. ./doit 디렉터리로 이동한다.\n",
        "2. dir 명령을 실행하고 그 결과를 변수에 담는다.\n",
        "3. dir 명령의 결과를 출력한다."
      ]
    },
    {
      "cell_type": "code",
      "metadata": {
        "colab_type": "code",
        "id": "XCnUj3obMr3v",
        "colab": {}
      },
      "source": [
        "# [Q10] Code\n",
        "\n",
        "os.chdir(\"C:/temp\") # ./doit 디렉터리로 이동한다.\n",
        "\n",
        "\n",
        "result = os.popen(\"dir\") # dir 명령을 실행하고 그 결과를 변수에 담는다.\n",
        "\n",
        "print(result.read()) # dir 명령의 결과를 출력한다."
      ],
      "execution_count": 0,
      "outputs": []
    },
    {
      "cell_type": "markdown",
      "metadata": {
        "colab_type": "text",
        "id": "8xQf6xJ4K7M_"
      },
      "source": [
        "## Q11.\n",
        "> glob 모듈을 사용하여 ./doit 디렉터리의 파일 중 확장자가 .py인 파일만 출력하는 프로그램을 작성해 보자."
      ]
    },
    {
      "cell_type": "code",
      "metadata": {
        "colab_type": "code",
        "id": "UCO7aRh5Msx6",
        "colab": {}
      },
      "source": [
        "# [Q11] Code\n",
        "\n",
        "import glob\n",
        "glob.glob(\"c:/doit/*.py\")\n"
      ],
      "execution_count": 0,
      "outputs": []
    },
    {
      "cell_type": "markdown",
      "metadata": {
        "id": "MndWHOfHnhZI",
        "colab_type": "text"
      },
      "source": [
        "![image.png](data:image/png;base64,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)"
      ]
    },
    {
      "cell_type": "markdown",
      "metadata": {
        "colab_type": "text",
        "id": "Q6QYCZ9HM3DW"
      },
      "source": [
        "## Q12.\n",
        "> time 모듈을 사용하여 현재 날짜와 시간을 다음과 같은 형식으로 출력해 보자.\n",
        "\n",
        "- 2018/04/03 17:20:32"
      ]
    },
    {
      "cell_type": "code",
      "metadata": {
        "colab_type": "code",
        "id": "80vm6aSMM3gf",
        "outputId": "8151edf5-be6a-452a-95ea-58233b93879b",
        "colab": {
          "base_uri": "https://localhost:8080/",
          "height": 35
        }
      },
      "source": [
        "# [Q12] Code\n",
        "\n",
        "import time\n",
        "time.strftime(\"%Y/%m/%d %H:%M:%S\") # 년/달/날/시간/분/초 순서로 출력"
      ],
      "execution_count": 0,
      "outputs": [
        {
          "output_type": "execute_result",
          "data": {
            "text/plain": [
              "'2020/06/09 10:03:31'"
            ]
          },
          "metadata": {
            "tags": []
          },
          "execution_count": 20
        }
      ]
    },
    {
      "cell_type": "markdown",
      "metadata": {
        "colab_type": "text",
        "id": "x2IYgozSM3gd"
      },
      "source": [
        "## Q13.\n",
        "> random 모듈을 사용하여 로또 번호(1~45 사이의 숫자 6개)를 생성해 보자(단 중복된 숫자가 있으면 안 됨)."
      ]
    },
    {
      "cell_type": "code",
      "metadata": {
        "colab_type": "code",
        "id": "FiKNOu9HM3DX",
        "outputId": "ad96fa3f-6006-44aa-e1af-9506e025e504",
        "colab": {
          "base_uri": "https://localhost:8080/",
          "height": 35
        }
      },
      "source": [
        "# [Q13] Code - 1\n",
        "\n",
        "import random\n",
        "\n",
        "result = []\n",
        "while len(result) < 6: # 6개 생성\n",
        "    numbers = random.randint(1, 45)   # 1부터 45까지의 난수 발생\n",
        "    if number not in result: # 중복된 숫자가 나오지 않게 함\n",
        "        result.append(numbers)\n",
        "\n",
        "print(result)"
      ],
      "execution_count": 16,
      "outputs": [
        {
          "output_type": "stream",
          "text": [
            "[23, 28, 41, 24, 34, 3]\n"
          ],
          "name": "stdout"
        }
      ]
    },
    {
      "cell_type": "markdown",
      "metadata": {
        "id": "2ljBDShkbqZO",
        "colab_type": "text"
      },
      "source": [
        "## 코딩 연습 결과를 github에 올리기\n",
        "> 완성된 ipython 노트북 파일을 각자의 github에 올리시오.\n",
        "\n",
        "- github 계정 만들기 (계정이 없는 학생)\n",
        "    1. github에 sign up (Google gmail 계정을 이용해서 만드시오.)\n",
        "- github에 노트 올리기\n",
        "    2. github에 각자의 id로 repo를 만드시오. (한번 만들면 계속 재사용)\n",
        "    3. github repo에 연습결과 노트를 올리시오.\n",
        "        - 제출노트: ch5_exercises_id.ipynb\n"
      ]
    },
    {
      "cell_type": "code",
      "metadata": {
        "id": "OnCR-YNCc8B6",
        "colab_type": "code",
        "colab": {}
      },
      "source": [
        ""
      ],
      "execution_count": 0,
      "outputs": []
    }
  ]
}