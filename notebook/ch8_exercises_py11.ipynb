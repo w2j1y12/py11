{
  "nbformat": 4,
  "nbformat_minor": 0,
  "metadata": {
    "colab": {
      "name": "ch8_exercises_py11.ipynb",
      "provenance": [],
      "collapsed_sections": [],
      "include_colab_link": true
    },
    "kernelspec": {
      "name": "python3",
      "display_name": "Python 3"
    }
  },
  "cells": [
    {
      "cell_type": "markdown",
      "metadata": {
        "id": "view-in-github",
        "colab_type": "text"
      },
      "source": [
        "<a href=\"https://colab.research.google.com/github/w2j1y12/py11/blob/master/notebook/ch8_exercises_py11.ipynb\" target=\"_parent\"><img src=\"https://colab.research.google.com/assets/colab-badge.svg\" alt=\"Open In Colab\"/></a>"
      ]
    },
    {
      "cell_type": "markdown",
      "metadata": {
        "id": "ovY5jkD5dpxE",
        "colab_type": "text"
      },
      "source": [
        "# ch8_exercises_py11.ipynb"
      ]
    },
    {
      "cell_type": "markdown",
      "metadata": {
        "id": "SZw6UnxQWYBe",
        "colab_type": "text"
      },
      "source": [
        "Q1. 문자열 바꾸기\n",
        "> 다음과 같은 문자열이 있다.\n",
        "\n",
        "```\n",
        "a:b:c:d\n",
        "```\n",
        "\n",
        "> 문자열의 split와 join 함수를 사용하여 위 문자열을 다음과 같이 고치시오.\n",
        "\n",
        "```\n",
        "a#b#c#d\n",
        "```\n"
      ]
    },
    {
      "cell_type": "code",
      "metadata": {
        "id": "rUNNaqJPdg7B",
        "colab_type": "code",
        "colab": {
          "base_uri": "https://localhost:8080/",
          "height": 35
        },
        "outputId": "673b7692-b12d-4b8e-87c7-f6e1ff2a01a0"
      },
      "source": [
        "# [Q1] Code-1 split와 join 이용\n",
        "\n",
        "before1 = \"a:b:c:d\"\n",
        "\n",
        "before2 = before.split(\":\") # split로 : 지우기\n",
        "\n",
        "after = '#'.join(before2) # join으로 # 넣어주기\n",
        "print(after)"
      ],
      "execution_count": null,
      "outputs": [
        {
          "output_type": "stream",
          "text": [
            "a#b#c#d\n"
          ],
          "name": "stdout"
        }
      ]
    },
    {
      "cell_type": "code",
      "metadata": {
        "colab_type": "code",
        "id": "x0OIIHRmDwtd",
        "colab": {
          "base_uri": "https://localhost:8080/",
          "height": 35
        },
        "outputId": "31a5dfbe-9f4c-4f56-c0e9-6b710b199805"
      },
      "source": [
        "# [Q1] Code-2 replace 이용\n",
        "\n",
        "before = \"a:b:c:d\"\n",
        "\n",
        "after = before.replace(\":\",\"#\")\n",
        "print(after)"
      ],
      "execution_count": null,
      "outputs": [
        {
          "output_type": "stream",
          "text": [
            "a#b#c#d\n"
          ],
          "name": "stdout"
        }
      ]
    },
    {
      "cell_type": "code",
      "metadata": {
        "id": "uvh6SuqhEMQG",
        "colab_type": "code",
        "colab": {
          "base_uri": "https://localhost:8080/",
          "height": 35
        },
        "outputId": "bb9ac5ca-bd13-4648-88a9-2de0350ca488"
      },
      "source": [
        "# [Q1] Code-3 maretrans 이용\n",
        "\n",
        "before = \"a:b:c:d\"\n",
        "\n",
        "after = before.maketrans(\":\", \"#\")\n",
        "\n",
        "print (before.translate(after))"
      ],
      "execution_count": null,
      "outputs": [
        {
          "output_type": "stream",
          "text": [
            "a#b#c#d\n"
          ],
          "name": "stdout"
        }
      ]
    },
    {
      "cell_type": "markdown",
      "metadata": {
        "colab_type": "text",
        "id": "re2-XrUYXF1m"
      },
      "source": [
        "## Q2. 딕셔너리 값 추출하기\n",
        "> 다음은 딕셔너리의 a에서 'C'라는 key에 해당하는 value를 출력하는 프로그램이다.\n",
        "```\n",
        ">>> a = {'A':90, 'B':80}\n",
        ">>> a['C']\n",
        "Traceback (most recent call last):\n",
        "  File \"<stdin>\", line 1, in <module>\n",
        "KeyError: 'C'\n",
        "```\n",
        ">> a 딕셔너리에는 'C'라는 key가 없으므로 위와 같은 오류가 발생한다.  \n",
        ">>'C'에 해당하는 key 값이 없을 경우 오류 대신 70을 얻을 수 있도록 수정하시오."
      ]
    },
    {
      "cell_type": "code",
      "metadata": {
        "colab_type": "code",
        "id": "5MBLUZ5WXF1q",
        "colab": {
          "base_uri": "https://localhost:8080/",
          "height": 34
        },
        "outputId": "c36d2cb7-0afe-4ab4-fb53-02601fb4e27b"
      },
      "source": [
        "# [Q2] Code-1\n",
        "\n",
        "a = {'A':90, 'B':80}\n",
        "a.get('C', 70)\n",
        "\n",
        "# 딕셔너리.get(key, [defalt값])"
      ],
      "execution_count": 7,
      "outputs": [
        {
          "output_type": "execute_result",
          "data": {
            "text/plain": [
              "70"
            ]
          },
          "metadata": {
            "tags": []
          },
          "execution_count": 7
        }
      ]
    },
    {
      "cell_type": "code",
      "metadata": {
        "id": "LL4oyUThTgdi",
        "colab_type": "code",
        "colab": {
          "base_uri": "https://localhost:8080/",
          "height": 34
        },
        "outputId": "0bc7ff9c-8795-4160-8be6-41feb9052bb6"
      },
      "source": [
        "# [Q2] Code-2\n",
        "\n",
        "try : # try문에 실행할 코드 입력\n",
        "  a = {'A':90, 'B':80}\n",
        "  a['C'] \n",
        "except : # except문에 예외 발생시 처리할 코드 입력\n",
        "  print(70)"
      ],
      "execution_count": 15,
      "outputs": [
        {
          "output_type": "stream",
          "text": [
            "70\n"
          ],
          "name": "stdout"
        }
      ]
    },
    {
      "cell_type": "code",
      "metadata": {
        "colab_type": "code",
        "id": "viVk7IDSEQZX",
        "colab": {
          "base_uri": "https://localhost:8080/",
          "height": 34
        },
        "outputId": "256e987d-4da7-4f43-89d6-817ca4e68ae9"
      },
      "source": [
        "# [Q2] Code-3\n",
        "\n",
        "a = {'A':90, 'B':80}\n",
        "a.setdefault('C', 70)\n",
        "\n",
        "# 딕셔너리.setdefault(key, [default 값])"
      ],
      "execution_count": 8,
      "outputs": [
        {
          "output_type": "execute_result",
          "data": {
            "text/plain": [
              "70"
            ]
          },
          "metadata": {
            "tags": []
          },
          "execution_count": 8
        }
      ]
    },
    {
      "cell_type": "markdown",
      "metadata": {
        "colab_type": "text",
        "id": "UZy8lu_BXGnT"
      },
      "source": [
        "## Q3. 리스트의 더하기와 extend 함수\n",
        "> 다음과 같은 리스트 a가 있다.\n",
        "```\n",
        "a = [1, 2, 3]\n",
        "```\n",
        "> 리스트 a에 [4, 5]를 + 기호를 사용하여 더한 결과는 다음과 같다.\n",
        "```\n",
        ">>> a = [1, 2, 3]\n",
        ">>> a = a + [4,5]\n",
        ">>> a\n",
        "[1, 2, 3, 4, 5]\n",
        "```\n",
        "> 리스트 a에 [4,5]를 extend를 사용하여 더한 결과는 다음과 같다.\n",
        "```\n",
        ">>> a = [1, 2, 3]\n",
        ">>> a.extend([4, 5])\n",
        ">>> a\n",
        "[1, 2, 3, 4, 5]\n",
        "```\n",
        "\n",
        "> ### + 기호를 사용하여 더한 것과 extend한 것의 차이점이 있을까? 있다면 그 차이점을 설명하시오."
      ]
    },
    {
      "cell_type": "markdown",
      "metadata": {
        "id": "2QouNo7MLJ-8",
        "colab_type": "text"
      },
      "source": [
        "- '+' 기호를 사용하면 메모리 주소가 더하기 전과 더하기 후가 달라짐.\n",
        "- 'expend'를 사용한 메모리 주소는 더하기 전과 더하기 후가 같음."
      ]
    },
    {
      "cell_type": "code",
      "metadata": {
        "id": "zVEbn-b1Jlkv",
        "colab_type": "code",
        "colab": {
          "base_uri": "https://localhost:8080/",
          "height": 71
        },
        "outputId": "5c2d2ca6-5dc0-43b7-8632-91bac824ba5e"
      },
      "source": [
        "# [Q3] Explain (코드와 주석으로 설명하시오)\n",
        "\n",
        "a = [1, 2, 3]\n",
        "print(id(a)) # 아무 리스트도 추가하지 않은 가장 초기 a의 메모리 주소 : 140073838779400\n",
        "\n",
        "a = a + [4,5] # + 기호를 사용하여 더한 것\n",
        "print(a)\n",
        "print(id(a)) # + 기호를 사용하여 더한 a의 메모리 주소 : 140073838383432"
      ],
      "execution_count": null,
      "outputs": [
        {
          "output_type": "stream",
          "text": [
            "140073838779400\n",
            "[1, 2, 3, 4, 5]\n",
            "140073838383432\n"
          ],
          "name": "stdout"
        }
      ]
    },
    {
      "cell_type": "code",
      "metadata": {
        "id": "1jC8MDgBJqyV",
        "colab_type": "code",
        "colab": {
          "base_uri": "https://localhost:8080/",
          "height": 71
        },
        "outputId": "e4489bf4-c228-4700-a5b8-ed067806f249"
      },
      "source": [
        "a = [1, 2, 3]\n",
        "print(id(a)) # 아무 리스트도 추가하지 않은 가장 초기 a의 메모리 주소 : 140073838779400\n",
        "\n",
        "a.extend([4, 5]) # extend를 사용하여 더한 것\n",
        "print(a)\n",
        "print(id(a)) # extend를 사용하여 더한 a의 메모리 주소 : 140073838779400"
      ],
      "execution_count": null,
      "outputs": [
        {
          "output_type": "stream",
          "text": [
            "140073838779400\n",
            "[1, 2, 3, 4, 5]\n",
            "140073838779400\n"
          ],
          "name": "stdout"
        }
      ]
    },
    {
      "cell_type": "markdown",
      "metadata": {
        "id": "C6RUgOpUI-0L",
        "colab_type": "text"
      },
      "source": [
        "##### + append와 expend차이\n",
        "\n",
        "a = [1, 2, 3]\n",
        "\n",
        "a.extend([4, 5]) -> [1, 2, 3, 4, 5]\n",
        "\n",
        "a.append([4, 5]) -> [1, 2, 3,[4, 5]]\n",
        "\n",
        "extend는 object의 요소들을 추가하지만 append는 object 통째로 추가함"
      ]
    },
    {
      "cell_type": "markdown",
      "metadata": {
        "colab_type": "text",
        "id": "fqypxxqTXHY7"
      },
      "source": [
        "## Q4. 리스트 총합 구하기\n",
        "> 다음은 A학급 학생의 점수를 나타내는 리스트이다. 다음 리스트에서 50점 이상 점수의 총합을 구하시오.\n",
        "```\n",
        "A = [20, 55, 67, 82, 45, 33, 90, 87, 100, 25]\n",
        "```"
      ]
    },
    {
      "cell_type": "code",
      "metadata": {
        "colab_type": "code",
        "id": "oQ5UnmayXHY-",
        "colab": {
          "base_uri": "https://localhost:8080/",
          "height": 71
        },
        "outputId": "4ed78566-a223-4815-9c49-c04cbdb444b8"
      },
      "source": [
        "# [Q4] Code-1\n",
        "\n",
        "A = [20, 55, 67, 82, 45, 33, 90, 87, 100, 25]\n",
        "\n",
        "sum = 0\n",
        "for i in range(len(A)) :\n",
        "  if A[i] >= 50 :\n",
        "    sum = sum + A[i]\n",
        "\n",
        "print(\"50점 이상 점수의 총합은\", sum ) # 출력할 때 ',' 사용하면 공백 생김/ '+' 사용하면 공백 안 생김"
      ],
      "execution_count": null,
      "outputs": [
        {
          "output_type": "stream",
          "text": [
            "50점 이상 점수의 총합은 481\n",
            "50점 이상 점수의 총합은 481\n",
            "50점 이상 점수의 총합은 481\n"
          ],
          "name": "stdout"
        }
      ]
    },
    {
      "cell_type": "code",
      "metadata": {
        "colab_type": "code",
        "id": "pMQ1e6jpFomt",
        "colab": {
          "base_uri": "https://localhost:8080/",
          "height": 53
        },
        "outputId": "bb8702a5-3eb1-4a3e-a02e-dc4b34688c76"
      },
      "source": [
        "# [Q4] Code-2 filter 함수 사용\n",
        "\n",
        "def positive(x) :\n",
        "  return x >= 50  # 50점 이상인 것만 return\n",
        "\n",
        "b = list(filter(positive, [20, 55, 67, 82, 45, 33, 90, 87, 100, 25])) \n",
        "print(b)\n",
        "# 위의 함수를 사용해서 50점 이상인 것들을 변수 b에 넣음\n",
        "\n",
        "sum = 0\n",
        "\n",
        "for i in range(len(b)) : # b에 있는 것들은 모두 50점 이상이므로 모두 더함\n",
        "  sum = sum + b[i]\n",
        "\n",
        "print('50점 이상 점수의 총합은 {0}'.format(sum))\n"
      ],
      "execution_count": null,
      "outputs": [
        {
          "output_type": "stream",
          "text": [
            "[55, 67, 82, 90, 87, 100]\n",
            "50점 이상 점수의 총합은 481\n"
          ],
          "name": "stdout"
        }
      ]
    },
    {
      "cell_type": "code",
      "metadata": {
        "id": "fyEUuq4dV-7z",
        "colab_type": "code",
        "colab": {
          "base_uri": "https://localhost:8080/",
          "height": 53
        },
        "outputId": "e9ebebb0-a829-4328-a99b-91c7ded35924"
      },
      "source": [
        "# [Q4] Code-3 lambda 사용\n",
        "\n",
        "a = list(filter(lambda x : x >= 50, [20, 55, 67, 82, 45, 33, 90, 87, 100, 25]))\n",
        "print(a)\n",
        "# lambda를 이용하여 조금 더 짧은 코드로 50점 이상인 것을을 골라 변수 a에 넣음\n",
        "sum =0 \n",
        "\n",
        "for i in range(len(a)) : \n",
        "  sum = sum + b[i]\n",
        "\n",
        "print('50점 이상 점수의 총합은 %d' %sum)"
      ],
      "execution_count": null,
      "outputs": [
        {
          "output_type": "stream",
          "text": [
            "[55, 67, 82, 90, 87, 100]\n",
            "50점 이상 점수의 총합은 481\n"
          ],
          "name": "stdout"
        }
      ]
    },
    {
      "cell_type": "markdown",
      "metadata": {
        "colab_type": "text",
        "id": "NKsvciXZXIL-"
      },
      "source": [
        "## Q5. 피보나치 함수\n",
        "> 첫 번째 항의 값이 0이고 두 번째 항의 값이 1일 때, 이후에 이어지는 항은 이전의 두 항을 더한 값으로 이루어지는 수열을 피보나치 수열이라고 한다.\n",
        "```\n",
        "0, 1, 1, 2, 3, 5, 8, 13, 21, ...\n",
        "```\n",
        "> 입력을 정수 n으로 받았을 때, n 이하까지의 피보나치 수열을 출력하는 함수를 작성해 보자.\n"
      ]
    },
    {
      "cell_type": "code",
      "metadata": {
        "colab_type": "code",
        "id": "5MZQYOVjXIL_",
        "colab": {
          "base_uri": "https://localhost:8080/",
          "height": 197
        },
        "outputId": "fa5bf116-468c-497b-9f2d-00b0ece79554"
      },
      "source": [
        "# [Q5] Code-1\n",
        "\n",
        "def fib(n) :\n",
        "  if n == 0 : return 0 # 첫 번째 항은 0\n",
        "  if n == 1 : return 1 # 두 번째 항은 1\n",
        "  return fib(n-2) + fib(n-1) # 나머지 항은 이전의 두 항을 더한 값\n",
        "\n",
        "for i in range(10): # 0에서 9번째 항까지\n",
        "  print(fib(i))\n"
      ],
      "execution_count": null,
      "outputs": [
        {
          "output_type": "stream",
          "text": [
            "0\n",
            "1\n",
            "1\n",
            "2\n",
            "3\n",
            "5\n",
            "8\n",
            "13\n",
            "21\n",
            "34\n"
          ],
          "name": "stdout"
        }
      ]
    },
    {
      "cell_type": "code",
      "metadata": {
        "colab_type": "code",
        "id": "JH2Rm_TkF_eu",
        "colab": {
          "base_uri": "https://localhost:8080/",
          "height": 215
        },
        "outputId": "a400fc57-7f1e-4507-c3aa-e88f62bfc9e3"
      },
      "source": [
        "# [Q5] Code-2 input으로 직접 입력 받아 출력\n",
        "\n",
        "def fib(n):\n",
        "    if n <= 1: # n이 1이하면 (0, 1) \n",
        "        return n # n 값 return\n",
        "    else:\n",
        "        return fib(n-2) + fib(n-1) # 나머지는 이전의 두 항을 더한 값 retrun\n",
        "\n",
        "a = int(input('n = '))\n",
        "\n",
        "for i in range(a): \n",
        "  print(fib(i))\n"
      ],
      "execution_count": null,
      "outputs": [
        {
          "output_type": "stream",
          "text": [
            "n = 10\n",
            "0\n",
            "1\n",
            "1\n",
            "2\n",
            "3\n",
            "5\n",
            "8\n",
            "13\n",
            "21\n",
            "34\n"
          ],
          "name": "stdout"
        }
      ]
    },
    {
      "cell_type": "markdown",
      "metadata": {
        "colab_type": "text",
        "id": "-3KHtOOoXJBV"
      },
      "source": [
        "## Q6. 숫자의 총합 구하기\n",
        "> 사용자로부터 다음과 같은 숫자를 입력받아 입력받은 숫자의 총합을 구하는 프로그램을 작성하시오. (단 숫자는 콤마로 구분하여 입력한다.)\n",
        "\n",
        "```\n",
        "65,45,2,3,45,8\n",
        "```\n"
      ]
    },
    {
      "cell_type": "code",
      "metadata": {
        "colab_type": "code",
        "id": "AjYR0lUaXJBa",
        "colab": {
          "base_uri": "https://localhost:8080/",
          "height": 53
        },
        "outputId": "f913120f-15e3-4e46-9a50-8a318033cb88"
      },
      "source": [
        "# [Q6] Code-1\n",
        "\n",
        "a, b, c, d, e, f = input().split(',')\n",
        "\n",
        "# 입력받은 값을 정수로 바꿔야함.\n",
        "# 각각의 변수들을 정수로 변환시킴.\n",
        "a = int(a)\n",
        "b = int(b)\n",
        "c = int(c)\n",
        "d = int(d)\n",
        "e = int(e)\n",
        "f = int(f)\n",
        "\n",
        "print(a + b + c + d + e + f) # 입력받은 정수들을 모두 더해줌."
      ],
      "execution_count": null,
      "outputs": [
        {
          "output_type": "stream",
          "text": [
            "65,45,2,3,45,8\n",
            "168\n"
          ],
          "name": "stdout"
        }
      ]
    },
    {
      "cell_type": "code",
      "metadata": {
        "colab_type": "code",
        "id": "JpkVe0zxGTK1",
        "colab": {
          "base_uri": "https://localhost:8080/",
          "height": 53
        },
        "outputId": "b369a599-f84f-4a0c-ef07-455b222ad01e"
      },
      "source": [
        "# [Q6] Code-2\n",
        "\n",
        "a, b, c, d, e, f = map(int, input().split(','))\n",
        "# map 함수를 이용하여 입력받은 값을 정수로 바꿔야함.\n",
        "# split(',')를 이용하여 입력받은 값을 ','로 구분함.\n",
        "\n",
        "print(a + b + c + d + e + f)"
      ],
      "execution_count": null,
      "outputs": [
        {
          "output_type": "stream",
          "text": [
            "65,45,2,3,45,8\n",
            "168\n"
          ],
          "name": "stdout"
        }
      ]
    },
    {
      "cell_type": "code",
      "metadata": {
        "id": "KjeeDPxuiRYu",
        "colab_type": "code",
        "colab": {
          "base_uri": "https://localhost:8080/",
          "height": 53
        },
        "outputId": "17c4cf78-d2ab-41d8-97b3-9b0e8e283b46"
      },
      "source": [
        "# [Q6] Code-3\n",
        "\n",
        "User_input = input() # 변수 User_input에 입력값 받음.\n",
        "numbers = User_input.split(\",\") # User_input에 받은 입력값을 split(',')을 이용해 구분한 후 변수 numbers에 넣음.\n",
        "\n",
        "total = 0\n",
        "\n",
        "for n in numbers :\n",
        "  total += int(n) # numbers 안에 있는 n을 정수로 바꾼 후 total에 더해줌.\n",
        "\n",
        "print(total)"
      ],
      "execution_count": null,
      "outputs": [
        {
          "output_type": "stream",
          "text": [
            "65,45,2,3,45,8\n",
            "168\n"
          ],
          "name": "stdout"
        }
      ]
    },
    {
      "cell_type": "markdown",
      "metadata": {
        "colab_type": "text",
        "id": "CiMJjZQ_GdyV"
      },
      "source": [
        "## Q7. 한 줄 구구단\n",
        "> 사용자로부터 2~9의 숫자 중 하나를 입력받아 해당 숫자의 구구단을 한 줄로 출력하는 프로그램을 작성하시오.\n",
        "\n",
        "> 실행 예)\n",
        "```\n",
        "구구단을 출력할 숫자를 입력하세요(2~9): 2\n",
        "2 4 6 8 10 12 14 16 18\n",
        "```\n"
      ]
    },
    {
      "cell_type": "code",
      "metadata": {
        "colab_type": "code",
        "id": "_8TQZNIwGdyo",
        "colab": {
          "base_uri": "https://localhost:8080/",
          "height": 53
        },
        "outputId": "b932ae30-e19d-4108-eae6-6bd89be7dc5e"
      },
      "source": [
        "# [Q7] Code-1 for문 이용\n",
        "\n",
        "n = int(input(\"구구단을 출력할 숫자를 입력하세요.(2~9) : \"))\n",
        "\n",
        "for i in range(1, 10) :\n",
        "    print((n * i), end = ' ') # 한 줄로 출력하기 위해서 end = ' ' 사용"
      ],
      "execution_count": null,
      "outputs": [
        {
          "output_type": "stream",
          "text": [
            "구구단을 출력할 숫자를 입력하세요.(2~9) : 2\n",
            "2 4 6 8 10 12 14 16 18 "
          ],
          "name": "stdout"
        }
      ]
    },
    {
      "cell_type": "code",
      "metadata": {
        "colab_type": "code",
        "id": "HRX-wvenGdyx",
        "colab": {
          "base_uri": "https://localhost:8080/",
          "height": 53
        },
        "outputId": "a5d73d82-56b5-4787-f8db-cc0efcefb15c"
      },
      "source": [
        "# [Q7] Code-2 while문 이용\n",
        "\n",
        "n = int(input(\"구구단을 출력할 숫자를 입력하세요.(2~9) : \"))\n",
        "i = 1\n",
        "\n",
        "while i < 10 :\n",
        "  print((n * i), end = ' ' ) \n",
        "  i = i + 1 "
      ],
      "execution_count": null,
      "outputs": [
        {
          "output_type": "stream",
          "text": [
            "구구단을 출력할 숫자를 입력하세요.(2~9) : 2\n",
            "2 4 6 8 10 12 14 16 18 "
          ],
          "name": "stdout"
        }
      ]
    },
    {
      "cell_type": "markdown",
      "metadata": {
        "colab_type": "text",
        "id": "YrS3b88QbmKo"
      },
      "source": [
        "## Q8. 역순 저장\n",
        "> 다음과 같은 내용의 파일 abc.txt가 있다.\n",
        "```\n",
        "AAA\n",
        "BBB\n",
        "CCC\n",
        "DDD\n",
        "EEE\n",
        "```\n",
        "> 이 파일의 내용을 다음과 같이 역순으로 바꾸어 저장하시오.\n",
        "```\n",
        "EEE\n",
        "DDD\n",
        "CCC\n",
        "BBB\n",
        "AAA\n",
        "```"
      ]
    },
    {
      "cell_type": "code",
      "metadata": {
        "colab_type": "code",
        "id": "Ll_2InMWbmKq",
        "colab": {}
      },
      "source": [
        "# [Q8] Code-1\n",
        "\n",
        "f = open('abc.txt', 'r') # 읽기 모드로 'abc.txt'염.\n",
        "lines = f.readlines() # 모든 라인을 읽어 들임.\n",
        "f.close()\n",
        "\n",
        "lines.reverse() # 읽은 모든 라인을 역순으로 바꿈.\n",
        "\n",
        "f = open('abc.txt', 'w')\n",
        "for line in lines :\n",
        "  line = line.strip() # 기존에 있던 '\\n' 문자 없애기\n",
        "  f.write(line)\n",
        "  f.write('\\n') \n",
        "f.close()\n"
      ],
      "execution_count": 81,
      "outputs": []
    },
    {
      "cell_type": "code",
      "metadata": {
        "id": "ImlH9SVggT7X",
        "colab_type": "code",
        "colab": {
          "base_uri": "https://localhost:8080/",
          "height": 194
        },
        "outputId": "e2f5b39a-ffe4-4e58-fb51-f123ac422a42"
      },
      "source": [
        "f = open(\"abc.txt\", \"r\")\n",
        "\n",
        "while True : # 무한반복\n",
        "  line = f.readline()\n",
        "  if not line : # 더이상 라인이 없으면 브레이크\n",
        "    break\n",
        "  print(line)\n",
        "\n",
        "f.close()"
      ],
      "execution_count": 82,
      "outputs": [
        {
          "output_type": "stream",
          "text": [
            "EEE\n",
            "\n",
            "DDD\n",
            "\n",
            "CCC\n",
            "\n",
            "BBB\n",
            "\n",
            "AAA\n",
            "\n"
          ],
          "name": "stdout"
        }
      ]
    },
    {
      "cell_type": "code",
      "metadata": {
        "colab_type": "code",
        "id": "N3uG53JsHIYX",
        "colab": {
          "base_uri": "https://localhost:8080/",
          "height": 123
        },
        "outputId": "85fe5265-2d09-48f4-9517-e0c214a33d82"
      },
      "source": [
        "# [Q8] Code-2 with as 사용\n",
        "\n",
        "with open(\"abc2.txt\", \"r\") as file1:\n",
        "  lines1 = file1.readlines()\n",
        "\n",
        "lines1.reverse()\n",
        "\n",
        "with open(\"abc2.txt\", \"w\") as file2:\n",
        "  for line in lines1:\n",
        "    line = line.strip()\n",
        "    file2.write(line)\n",
        "    file2.write(\"\\n\")\n",
        "\n",
        "with open(\"abc2.txt\", \"r\") as file3:\n",
        "  lines2 = file3.read()\n",
        "  print(lines2)"
      ],
      "execution_count": 86,
      "outputs": [
        {
          "output_type": "stream",
          "text": [
            "EEE\n",
            "DDD\n",
            "CCC\n",
            "BBB\n",
            "AAA\n",
            "\n"
          ],
          "name": "stdout"
        }
      ]
    },
    {
      "cell_type": "markdown",
      "metadata": {
        "colab_type": "text",
        "id": "OcSDHHYkK6lZ"
      },
      "source": [
        "## Q9. 평균값 구하기\n",
        "> 다음과 같이 총 10줄로 이루어진 sample.txt 파일이 있다. sample.txt 파일의 숫자 값을 모두 읽어 총합과 평균 값을 구한 후 평균 값을 result.txt 파일에 쓰는 프로그램을 작성하시오.\n",
        "```\n",
        "70\n",
        "60\n",
        "55\n",
        "75\n",
        "95\n",
        "90\n",
        "80\n",
        "80\n",
        "85\n",
        "100\n",
        "```\n"
      ]
    },
    {
      "cell_type": "code",
      "metadata": {
        "colab_type": "code",
        "id": "GmaaVGqrK6le",
        "colab": {}
      },
      "source": [
        "# [Q9] Code-1\n",
        "\n",
        "f = open(\"sample.txt\")\n",
        "lines = f.readlines() # sample.txt파일 안의 라인을 모두 읽음\n",
        "f.close()\n",
        "\n",
        "total = 0\n",
        "for line in lines :\n",
        "  score = int(line) # 숫자들을 정수형으로 바꿔줌\n",
        "  total += score \n",
        "average = total / len(lines)\n",
        "\n",
        "f = open(\"result.txt\", \"w\") # 쓰기 모드를 이용해 원래 있는 파일이면 그대로, 없는 파일이라면 새로 생성됨\n",
        "f.write(str(average))\n",
        "f.close()"
      ],
      "execution_count": 17,
      "outputs": []
    },
    {
      "cell_type": "code",
      "metadata": {
        "id": "Kwvrz3C4Vs5D",
        "colab_type": "code",
        "colab": {
          "base_uri": "https://localhost:8080/",
          "height": 34
        },
        "outputId": "bed90235-0c3f-435b-fd06-17086189095c"
      },
      "source": [
        "# result.txt 파일이 생기고 안의 average 값 확인\n",
        "\n",
        "f = open(\"result.txt\", \"r\")\n",
        "\n",
        "while True : # 무한반복\n",
        "  line = f.readline()\n",
        "  if not line : # 더이상 라인이 없으면 브레이크\n",
        "    break\n",
        "  print(line)\n",
        "\n",
        "f.close()"
      ],
      "execution_count": 80,
      "outputs": [
        {
          "output_type": "stream",
          "text": [
            "79.0\n"
          ],
          "name": "stdout"
        }
      ]
    },
    {
      "cell_type": "code",
      "metadata": {
        "colab_type": "code",
        "id": "kgMy9LVYHfRF",
        "colab": {
          "base_uri": "https://localhost:8080/",
          "height": 34
        },
        "outputId": "47b2c417-d623-413a-c2e6-2cbefd1dee94"
      },
      "source": [
        "# [Q9] Code-2 with as 사용\n",
        "\n",
        "with open(\"sample2.txt\", \"r\") as file1 :\n",
        "  lines = file1.readlines()\n",
        "\n",
        "sum = 0\n",
        "for line in lines :\n",
        "  sum += int(line)\n",
        "average = sum /len(lines)\n",
        "\n",
        "with open(\"result2.txt\", \"w\") as file2 :\n",
        "  file2.write(str(average))\n",
        "\n",
        "with open(\"result2.txt\", \"r\") as file3 :\n",
        "  lines2 = file3.read()\n",
        "  print(lines2)"
      ],
      "execution_count": 84,
      "outputs": [
        {
          "output_type": "stream",
          "text": [
            "79.0\n"
          ],
          "name": "stdout"
        }
      ]
    },
    {
      "cell_type": "markdown",
      "metadata": {
        "colab_type": "text",
        "id": "anwB_DjuK60j"
      },
      "source": [
        "## Q10. 사칙연산 계산기\n",
        "> 다음과 같이 동작하는 클래스 Calculator를 작성하시오.\n",
        "```\n",
        ">>> cal1 = Calculator([1,2,3,4,5])\n",
        ">>> cal1.sum() # 합계\n",
        "15\n",
        ">>> cal1.avg() # 평균\n",
        "3.0\n",
        ">>> cal2 = Calculator([6,7,8,9,10])\n",
        ">>> cal2.sum() # 합계\n",
        "40\n",
        ">>> cal2.avg() # 평균\n",
        "8.0\n",
        "```\n"
      ]
    },
    {
      "cell_type": "code",
      "metadata": {
        "colab_type": "code",
        "id": "QJTNoSqtMrIM",
        "colab": {
          "base_uri": "https://localhost:8080/",
          "height": 87
        },
        "outputId": "33609c4f-346d-4dd8-8b3f-d0f7593aadd1"
      },
      "source": [
        "# [Q10] Code-1\n",
        "\n",
        "class Calculator:\n",
        "    def __init__(self, numbers):\n",
        "        self.numbers = numbers\n",
        "\n",
        "    def sum(self): # 합계 구하는 함수\n",
        "        total = 0\n",
        "        for number in self.numbers:\n",
        "            total += number\n",
        "        return total\n",
        "\n",
        "    def avg(self): # 평균 구하는 함수\n",
        "        average = self.sum( )/ len(self.numbers)\n",
        "        return average\n",
        "\n",
        "\n",
        "cal1 = Calculator([1,2,3,4,5])\n",
        "\n",
        "print(cal1.sum())\n",
        "print(cal1.avg())\n",
        "\n",
        "cal2 = Calculator([6,7,8,9,10])\n",
        "\n",
        "print(cal2.sum())\n",
        "print(cal2.avg())"
      ],
      "execution_count": null,
      "outputs": [
        {
          "output_type": "stream",
          "text": [
            "15\n",
            "3.0\n",
            "40\n",
            "8.0\n"
          ],
          "name": "stdout"
        }
      ]
    },
    {
      "cell_type": "code",
      "metadata": {
        "colab_type": "code",
        "id": "91hia3WgH2gW",
        "colab": {
          "base_uri": "https://localhost:8080/",
          "height": 87
        },
        "outputId": "b2e0daaa-13c4-4dad-b3c8-b863dc5a17d2"
      },
      "source": [
        "# [Q10] Code-2\n",
        "\n",
        "class Calculator:\n",
        "    def __init__(self,value):\n",
        "        self.value = value\n",
        " \n",
        "    def add(self):\n",
        "        result = 0\n",
        "        for num in self.value: \n",
        "            result += num\n",
        "        return result\n",
        "\n",
        "class UpgradeCalculator(Calculator): #Calculator를 상속받음\n",
        "    def avg(self):\n",
        "        total = self.add()\n",
        "        return total / len(self.value)\n",
        "\n",
        "cal1 = UpgradeCalculator([1,2,3,4,5])\n",
        "print(cal1.add())\n",
        "print(cal1.avg())\n",
        "\n",
        "cal2=UpgradeCalculator([6,7,8,9,10])\n",
        "print(cal2.add())\n",
        "print(cal2.avg())"
      ],
      "execution_count": 88,
      "outputs": [
        {
          "output_type": "stream",
          "text": [
            "15\n",
            "3.0\n",
            "40\n",
            "8.0\n"
          ],
          "name": "stdout"
        }
      ]
    },
    {
      "cell_type": "markdown",
      "metadata": {
        "id": "gNnjBaJvH_51",
        "colab_type": "text"
      },
      "source": [
        "\n",
        "\n",
        "---\n",
        "\n",
        "\n"
      ]
    },
    {
      "cell_type": "markdown",
      "metadata": {
        "colab_type": "text",
        "id": "8xQf6xJ4K7M_"
      },
      "source": [
        "## Q11. 모듈 사용 방법\n",
        "> ./doit 디렉터리에 mymod.py 파이썬 모듈이 있다고 가정해 보자. 명령 프롬프트 창에서 파이썬 셸을 열어 이 모듈을 import해서 사용할 수 있는 방법을 모두 기술하시오. (즉 다음과 같이 import mymod를 수행할 때 오류가 없어야 한다.)\n",
        "```\n",
        ">>> import mymod\n",
        ">>>\n",
        "```"
      ]
    },
    {
      "cell_type": "code",
      "metadata": {
        "colab_type": "code",
        "id": "4zv7LXPjJiCH",
        "colab": {
          "base_uri": "https://localhost:8080/",
          "height": 34
        },
        "outputId": "a472cdf8-fcf6-4879-e3c1-b3722b042b95"
      },
      "source": [
        "!mkdir doit\n",
        "# 실행 후 새로 고침!\n",
        "# mymod.py 를 업로드한다."
      ],
      "execution_count": 94,
      "outputs": [
        {
          "output_type": "stream",
          "text": [
            "mkdir: cannot create directory ‘doit’: File exists\n"
          ],
          "name": "stdout"
        }
      ]
    },
    {
      "cell_type": "code",
      "metadata": {
        "colab_type": "code",
        "id": "JA_3n4g8JiB7",
        "colab": {}
      },
      "source": [
        "!mv mymod.py ./doit\n",
        "# 실행 후 새로 고침!"
      ],
      "execution_count": null,
      "outputs": []
    },
    {
      "cell_type": "code",
      "metadata": {
        "colab_type": "code",
        "id": "UCO7aRh5Msx6",
        "colab": {}
      },
      "source": [
        "# [Q11] Code-1\n",
        "\n",
        "import sys\n",
        "sys.path.append(\"c:/doit\")\n",
        "import mymod\n",
        "\n",
        "# sys.path에 디렉터리 c:/doit 추가 -> c:/doit 안의 mymod 모듈 사용가능"
      ],
      "execution_count": 96,
      "outputs": []
    },
    {
      "cell_type": "code",
      "metadata": {
        "colab_type": "code",
        "id": "aX_wLb53IgUl",
        "colab": {}
      },
      "source": [
        "# [Q11] Code-2\n",
        "\n",
        "from doit import mymod"
      ],
      "execution_count": 98,
      "outputs": []
    },
    {
      "cell_type": "markdown",
      "metadata": {
        "colab_type": "text",
        "id": "Q6QYCZ9HM3DW"
      },
      "source": [
        "## Q12. 오류와 예외 처리\n",
        "> 다음 코드의 실행 결과를 예측하고 그 이유에 대해 설명하시오.\n",
        "\n",
        "```\n",
        "result = 0\n",
        "\n",
        "try:\n",
        "    [1, 2, 3][3]\n",
        "    \"a\"+1\n",
        "    4 / 0\n",
        "except TypeError:\n",
        "    result += 1\n",
        "except ZeroDivisionError:\n",
        "    result += 2\n",
        "except IndexError:\n",
        "    result += 3\n",
        "finally:\n",
        "    result += 4\n",
        "\n",
        "print(result)\n",
        "```\n"
      ]
    },
    {
      "cell_type": "code",
      "metadata": {
        "id": "hDf0Js4KLOrl",
        "colab_type": "code",
        "colab": {
          "base_uri": "https://localhost:8080/",
          "height": 34
        },
        "outputId": "983cde14-f808-406e-d2d6-33fbb294a46f"
      },
      "source": [
        "# [Q12] Explain (코드와 주석으로 설명하시오)\n",
        "\n",
        "result = 0 # result의 초깃값은 0으로 시작\n",
        " \n",
        "try: # try문에 있는 문장 수행\n",
        "    [1, 2, 3][3] # 가장 위에 있는  [1, 2, 3][3]에서 IndexError발생\n",
        "    \"a\"+1\n",
        "    4 / 0\n",
        "except TypeError:\n",
        "    result += 1\n",
        "except ZeroDivisionError:\n",
        "    result += 2\n",
        "except IndexError: # 이 구문으로 이동 \n",
        "    result += 3 # result 값은 3이됨\n",
        "finally: # 마지막 finally 구문으로 이동\n",
        "    result += 4 # 따라서 result 값은 7이 됨\n",
        " \n",
        "print(result)"
      ],
      "execution_count": 31,
      "outputs": [
        {
          "output_type": "stream",
          "text": [
            "7\n"
          ],
          "name": "stdout"
        }
      ]
    },
    {
      "cell_type": "markdown",
      "metadata": {
        "colab_type": "text",
        "id": "x2IYgozSM3gd"
      },
      "source": [
        "## Q13. DashInsert 함수\n",
        "> DashInsert 함수는 숫자로 구성된 문자열을 입력받은 뒤 문자열 안에서 홀수가 연속되면 두 수 사이에 - 를 추가하고, 짝수가 연속되면 * 를 추가하는 기능을 갖고 있다. DashInsert 함수를 완성하시오.\n",
        "```\n",
        "입력 예시: 4546793\n",
        "출력 예시: 454*67-9-3\n",
        "```\n"
      ]
    },
    {
      "cell_type": "code",
      "metadata": {
        "colab_type": "code",
        "id": "FiKNOu9HM3DX",
        "colab": {
          "base_uri": "https://localhost:8080/",
          "height": 34
        },
        "outputId": "2d3e4dea-489c-44f3-c44e-ac11c357cea3"
      },
      "source": [
        "# [Q13] Code-1\n",
        "\n",
        "data = \"4546793\"\n",
        "numbers = list(map(int, data))   # 숫자 문자열을 숫자 리스트로 변경\n",
        "result = []\n",
        "\n",
        "for i, num in enumerate(numbers):\n",
        "    result.append(str(num))\n",
        "    if i < len(numbers)-1: # 다음에도 숫자가 온다면              \n",
        "        first = num % 2 == 1  # 첫 번째 홀수             \n",
        "        second = numbers[i+1] % 2 == 1  # 그 다음 두 번째도 홀수\n",
        "        if first and second: # 연속으로 홀수가 올 때,          \n",
        "            result.append(\"-\")\n",
        "        elif not first and not second: # 연속으로 짝수가 올 때,\n",
        "            result.append(\"*\")\n",
        "\n",
        "print(\"\".join(result))"
      ],
      "execution_count": 32,
      "outputs": [
        {
          "output_type": "stream",
          "text": [
            "454*67-9-3\n"
          ],
          "name": "stdout"
        }
      ]
    },
    {
      "cell_type": "code",
      "metadata": {
        "colab_type": "code",
        "id": "d_hmy1RZLqBg",
        "colab": {
          "base_uri": "https://localhost:8080/",
          "height": 52
        },
        "outputId": "3eafae6e-f07b-401a-cb07-80197a9bead7"
      },
      "source": [
        "# [Q13] Code-2 직접 입력 받기\n",
        "\n",
        "data = input() # 직접 입력받기\n",
        "numbers = list(map(int, data))   # 숫자 문자열을 숫자 리스트로 변경\n",
        "result = []\n",
        "\n",
        "for i, num in enumerate(numbers):\n",
        "    result.append(str(num))\n",
        "    if i < len(numbers)-1: # 다음에도 숫자가 온다면              \n",
        "        first = num % 2 == 1  # 첫 번째 홀수             \n",
        "        second = numbers[i+1] % 2 == 1  # 그 다음 두 번째도 홀수\n",
        "        if first and second: # 연속으로 홀수가 올 때,          \n",
        "            result.append(\"-\")\n",
        "        elif not first and not second: # 연속으로 짝수가 올 때,\n",
        "            result.append(\"*\")\n",
        "\n",
        "print(\"\".join(result))"
      ],
      "execution_count": 33,
      "outputs": [
        {
          "output_type": "stream",
          "text": [
            "4546793\n",
            "454*67-9-3\n"
          ],
          "name": "stdout"
        }
      ]
    },
    {
      "cell_type": "markdown",
      "metadata": {
        "colab_type": "text",
        "id": "HDbz71sNL2Qt"
      },
      "source": [
        "## Q14. 문자열 압축하기\n",
        "> 문자열을 입력받아 같은 문자가 연속적으로 반복되는 경우에 그 반복 횟수를 표시해 문자열을 압축하여 표시하시오.\n",
        "```\n",
        "입력 예시: aaabbcccccca\n",
        "출력 예시: a3b2c6a1\n",
        "```\n",
        "\n"
      ]
    },
    {
      "cell_type": "code",
      "metadata": {
        "colab_type": "code",
        "id": "Hs88sVjjL2Qw",
        "colab": {
          "base_uri": "https://localhost:8080/",
          "height": 34
        },
        "outputId": "09fb6cc5-fe5b-40c0-c33a-2461ecb6901f"
      },
      "source": [
        "# [Q14] Code-1\n",
        "\n",
        "s = 'aaabbcccccca'\n",
        "\n",
        "result = s[0]\n",
        "count = 0 # 연속되는 문자열의 개수를 세는 변수\n",
        "\n",
        "for next in s :\n",
        "  if next == result[-1] : # 지금의 문자와 이 전의 문자가 같을 경우\n",
        "    count +=1 # 카운트 +1\n",
        "  else : # 지금의 문자와 이 전의 문자가 다를 경우\n",
        "    result += str(count) + next # result에 그 문자와 count\n",
        "    count = 1 # 카운트는 다시 1로 초기화됨.\n",
        "\n",
        "result += str(count) # 마지막 a의 개수까지 포함\n",
        "\n",
        "print(result)"
      ],
      "execution_count": 41,
      "outputs": [
        {
          "output_type": "stream",
          "text": [
            "a3b2c6a1\n"
          ],
          "name": "stdout"
        }
      ]
    },
    {
      "cell_type": "code",
      "metadata": {
        "colab_type": "code",
        "id": "XF4F0DW0L2Q1",
        "colab": {
          "base_uri": "https://localhost:8080/",
          "height": 52
        },
        "outputId": "38da2978-5ada-4feb-8368-9c7e73f4e51a"
      },
      "source": [
        "# [Q14] Code-2 직접 입력받음\n",
        "\n",
        "s = input()\n",
        "\n",
        "result = s[0]\n",
        "count = 0 # 연속되는 문자열의 개수를 세는 변수\n",
        "\n",
        "for next in s :\n",
        "  if next == result[-1] : # 지금의 문자와 이 전의 문자가 같을 경우\n",
        "    count +=1 # 카운트 +1\n",
        "  else : # 지금의 문자와 이 전의 문자가 다를 경우\n",
        "    result += str(count) + next # result에 그 문자와 count\n",
        "    count = 1 # 카운트는 다시 1로 초기화됨.\n",
        "\n",
        "result += str(count) # 마지막 a의 개수까지 포함\n",
        "\n",
        "print(result)"
      ],
      "execution_count": 42,
      "outputs": [
        {
          "output_type": "stream",
          "text": [
            "aaabbcccccca\n",
            "a3b2c6a1\n"
          ],
          "name": "stdout"
        }
      ]
    },
    {
      "cell_type": "markdown",
      "metadata": {
        "colab_type": "text",
        "id": "tCF274jtL3Vk"
      },
      "source": [
        "## Q15. Duplicate Numbers\n",
        "> 0 ~ 9의 문자로 된 숫자를 입력받았을 때, 이 입력값이 0 ~ 9의 모든 숫자를 각각 한 번씩만 사용한 것인지 확인하는 함수를 작성하시오.\n",
        "```\n",
        "입력 예시: 0123456789 01234 01234567890 6789012345 012322456789\n",
        "출력 예시: true false false true false\n",
        "```\n"
      ]
    },
    {
      "cell_type": "code",
      "metadata": {
        "colab_type": "code",
        "id": "3uQFw6jGL3Vm",
        "colab": {
          "base_uri": "https://localhost:8080/",
          "height": 105
        },
        "outputId": "79386064-78f9-4798-9265-bfd70ef8fdda"
      },
      "source": [
        "# [Q15] Code-1\n",
        "\n",
        "def CheckNumber1(s):\n",
        "    result = []\n",
        "    for num in s:\n",
        "        if num not in result:\n",
        "            result.append(num)\n",
        "        else:\n",
        "            return False\n",
        "    return len(result) == 10\n",
        "\n",
        "print(CheckNumber1(\"0123456789\"))      \n",
        "print(CheckNumber1(\"01234\"))          \n",
        "print(CheckNumber1(\"01234567890\"))     \n",
        "print(CheckNumber1(\"6789012345\"))      \n",
        "print(CheckNumber1(\"012322456789\")) "
      ],
      "execution_count": 76,
      "outputs": [
        {
          "output_type": "stream",
          "text": [
            "True\n",
            "False\n",
            "False\n",
            "True\n",
            "False\n"
          ],
          "name": "stdout"
        }
      ]
    },
    {
      "cell_type": "code",
      "metadata": {
        "id": "L5FNW9pFapvm",
        "colab_type": "code",
        "colab": {
          "base_uri": "https://localhost:8080/",
          "height": 194
        },
        "outputId": "cd24bd5a-f473-488e-bfaa-a372eafa2e38"
      },
      "source": [
        "# [Q15] Code-2\n",
        "\n",
        "def CheckNumber2(num):\n",
        "    for i in range(10):\n",
        "        if num.count(str(i)) != 1:\n",
        "            print(\"False\")\n",
        "            return # return에 값이 없어서 중간에 None값이 출력\n",
        "\n",
        "    print(\"True\")\n",
        "\n",
        "print(CheckNumber2('0123456789'))\n",
        "print(CheckNumber2('01234'))\n",
        "print(CheckNumber2('01234567890'))\n",
        "print(CheckNumber2('6789012345'))\n",
        "print(CheckNumber2('012322456789'))"
      ],
      "execution_count": 77,
      "outputs": [
        {
          "output_type": "stream",
          "text": [
            "True\n",
            "None\n",
            "False\n",
            "None\n",
            "False\n",
            "None\n",
            "True\n",
            "None\n",
            "False\n",
            "None\n"
          ],
          "name": "stdout"
        }
      ]
    },
    {
      "cell_type": "markdown",
      "metadata": {
        "colab_type": "text",
        "id": "QdPWKi1gL4UE"
      },
      "source": [
        "## Q16. 모스 부호 해독\n",
        "> 문자열 형식으로 입력받은 모스 부호(dot:. dash:-)를 해독하여 영어 문장으로 출력하는 프로그램을 작성하시오.\n",
        "\n",
        "- 글자와 글자 사이는 공백 1개, 단어와 단어 사이는 공백 2개로 구분한다.\n",
        "- 예를 들어 다음 모스 부호는 \"HE SLEEPS EARLY\"로 해석해야 한다.\n",
        "```\n",
        ".... .  ... .-.. . . .--. ...  . .- .-. .-.. -.--\n",
        "```\n",
        "> 모스부호 규칙 표\n",
        "```\n",
        "문자 부호\t문자   부호\n",
        "A\t .-\t    N\t    -.\n",
        "B\t -...\tO\t    ---\n",
        "C\t -.-.\tP\t    .--.\n",
        "D\t -..\tQ\t    --.-\n",
        "E\t .\t    R\t    .-.\n",
        "F\t ..-.\tS\t    ...\n",
        "G\t --.\tT\t    -\n",
        "H\t ....\tU\t    ..-\n",
        "I\t ..\t    V\t    ...-\n",
        "J\t .---\tW\t    .--\n",
        "K\t -.-\tX\t    -..-\n",
        "L\t .-..\tY\t    -.--\n",
        "M\t --\t    Z\t    --..\n",
        "```"
      ]
    },
    {
      "cell_type": "code",
      "metadata": {
        "colab_type": "code",
        "id": "ciZbyRFrL4UF",
        "colab": {
          "base_uri": "https://localhost:8080/",
          "height": 34
        },
        "outputId": "ba61cc6a-392d-4753-d909-b8b40b9be749"
      },
      "source": [
        "# [Q16] Code-1\n",
        "\n",
        "dic = {\n",
        "    '.-':'A','-...':'B','-.-.':'C','-..':'D','.':'E','..-.':'F',\n",
        "    '--.':'G','....':'H','..':'I','.---':'J','-.-':'K','.-..':'L',\n",
        "    '--':'M','-.':'N','---':'O','.--.':'P','--.-':'Q','.-.':'R',\n",
        "    '...':'S','-':'T','..-':'U','...-':'V','.--':'W','-..-':'X',\n",
        "    '-.--':'Y','--..':'Z'\n",
        "} # 모스부호 규착을 딕셔너리로\n",
        "\n",
        "def morse(src):\n",
        "    result = []\n",
        "    for word in src.split(\"  \"): # 단어와 단어 사이는 공백 2개로 구분한다.\n",
        "        for char in word.split(\" \"): # 글자와 글자 사이는 공백 1개\n",
        "            result.append(dic[char])\n",
        "        result.append(\" \")\n",
        "    return \"\".join(result)\n",
        "\n",
        "\n",
        "print(morse('.... .  ... .-.. . . .--. ...  . .- .-. .-.. -.--'))"
      ],
      "execution_count": 78,
      "outputs": [
        {
          "output_type": "stream",
          "text": [
            "HE SLEEPS EARLY \n"
          ],
          "name": "stdout"
        }
      ]
    },
    {
      "cell_type": "code",
      "metadata": {
        "colab_type": "code",
        "id": "x9-Qq3mVL4UJ",
        "colab": {
          "base_uri": "https://localhost:8080/",
          "height": 34
        },
        "outputId": "4606be89-c369-47c1-a07e-a0435d8f83dd"
      },
      "source": [
        "# [Q16] Code-2 순서대로 알파벳 부여\n",
        "\n",
        "mos='.- -... -.-. -.. . ..-. --. .... .. .--- -.- .-.. -- -. --- .--. --.- .-. ... - ..- ...- .-- -..- -.-- --..'.split(' ')\n",
        "mos_in='.... .  ... .-.. . . .--. ...  . .- .-. .-.. -.--'.split(' ')\n",
        "result=[]\n",
        "\n",
        "for i in range (len(mos_in)):\n",
        "    j=0\n",
        "    while (j<26):\n",
        "        if mos_in[i]==mos[j]:\n",
        "            result.append(chr(j+65))\n",
        "            break\n",
        "        elif mos_in[i]=='':\n",
        "            result.append(' ')\n",
        "            break\n",
        "        j+=1\n",
        "\n",
        "print (''.join(result))"
      ],
      "execution_count": 79,
      "outputs": [
        {
          "output_type": "stream",
          "text": [
            "HE SLEEPS EARLY\n"
          ],
          "name": "stdout"
        }
      ]
    },
    {
      "cell_type": "markdown",
      "metadata": {
        "id": "om4sRiRhMosn",
        "colab_type": "text"
      },
      "source": [
        "\n",
        "\n",
        "---\n",
        "\n",
        "# 다음 정규식 문제는 기말고사 후에 도전해 보세요."
      ]
    },
    {
      "cell_type": "markdown",
      "metadata": {
        "id": "nazB2KXYOm5R",
        "colab_type": "text"
      },
      "source": [
        "## Regular Expression\n",
        "- import re"
      ]
    },
    {
      "cell_type": "markdown",
      "metadata": {
        "colab_type": "text",
        "id": "AN8kEO30L5NE"
      },
      "source": [
        "## Q17. 기초 메타 문자\n",
        "> 다음 중 정규식 a[.]{3,}b과 매치되는 문자열은 무엇일까?\n",
        "\n",
        "\n",
        "```\n",
        "acccb\n",
        "a....b\n",
        "aaab\n",
        "a.cccb\n",
        "```\n"
      ]
    },
    {
      "cell_type": "code",
      "metadata": {
        "colab_type": "code",
        "id": "uKQWoUqhL5NG",
        "colab": {}
      },
      "source": [
        "# [Q17] Code\n",
        "\n"
      ],
      "execution_count": null,
      "outputs": []
    },
    {
      "cell_type": "markdown",
      "metadata": {
        "colab_type": "text",
        "id": "0dEWfwATL6DE"
      },
      "source": [
        "## Q18. 문자열 검색\n",
        "> 다음 코드의 결괏값은 무엇일까?\n",
        "\n",
        "```\n",
        ">>> import re\n",
        ">>> p = re.compile(\"[a-z]+\")\n",
        ">>> m = p.search(\"5 python\")\n",
        ">>> m.start() + m.end()\n",
        "```\n"
      ]
    },
    {
      "cell_type": "code",
      "metadata": {
        "colab_type": "code",
        "id": "Ip11Dmo7L6DH",
        "colab": {}
      },
      "source": [
        "# [Q18] Code\n",
        "\n"
      ],
      "execution_count": null,
      "outputs": []
    },
    {
      "cell_type": "markdown",
      "metadata": {
        "colab_type": "text",
        "id": "8QizaqrUL62E"
      },
      "source": [
        "## Q19. 그루핑\n",
        "> 다음과 같은 문자열에서 휴대폰 번호 뒷자리인 숫자 4개를 ####로 바꾸는 프로그램을 정규식을 사용하여 작성하시오.\n",
        "\n",
        "```\n",
        "park 010-9999-9988\n",
        "kim 010-9909-7789\n",
        "lee 010-8789-7768\n",
        "```\n"
      ]
    },
    {
      "cell_type": "code",
      "metadata": {
        "colab_type": "code",
        "id": "bfRvchIlL62H",
        "colab": {}
      },
      "source": [
        "# [Q19] Code\n",
        "\n"
      ],
      "execution_count": null,
      "outputs": []
    },
    {
      "cell_type": "markdown",
      "metadata": {
        "colab_type": "text",
        "id": "0DumiUQoL7jk"
      },
      "source": [
        "## Q20. 전방 탐색\n",
        "> 다음은 이메일 주소를 나타내는 정규식이다. 이 정규식은 park@naver.com, kim@daum.net, lee@myhome.co.kr 등과 매치된다. 긍정형 전방 탐색 기법을 사용하여 .com, .net이 아닌 이메일 주소는 제외시키는 정규식을 작성하시오.\n",
        "\n",
        "```\n",
        ".*[@].*[.].*$\n",
        "```\n"
      ]
    },
    {
      "cell_type": "code",
      "metadata": {
        "colab_type": "code",
        "id": "9S9UUOkFL7jl",
        "colab": {}
      },
      "source": [
        "# [Q20] Code\n",
        "\n"
      ],
      "execution_count": null,
      "outputs": []
    },
    {
      "cell_type": "markdown",
      "metadata": {
        "id": "2ljBDShkbqZO",
        "colab_type": "text"
      },
      "source": [
        "## 코딩 연습 결과를 github에 올리기\n",
        "> 완성된 ipython 노트북 파일을 각자의 github에 올리시오.\n",
        "\n",
        "- github 계정 만들기 (계정이 없는 학생)\n",
        "    1. github에 sign up (Google gmail 계정을 이용해서 만드시오.)\n",
        "- github에 노트 올리기\n",
        "    2. github에 각자의 id로 repo를 만드시오. (한번 만들면 계속 재사용)\n",
        "    3. github repo에 연습결과 노트를 올리시오.\n",
        "        - 제출노트: ch8_exercises_id.ipynb\n"
      ]
    },
    {
      "cell_type": "code",
      "metadata": {
        "id": "OnCR-YNCc8B6",
        "colab_type": "code",
        "colab": {}
      },
      "source": [
        ""
      ],
      "execution_count": null,
      "outputs": []
    }
  ]
}