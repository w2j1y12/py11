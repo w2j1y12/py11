{
  "nbformat": 4,
  "nbformat_minor": 0,
  "metadata": {
    "colab": {
      "name": "mid_exam_py11.ipynb",
      "provenance": [],
      "collapsed_sections": [],
      "authorship_tag": "ABX9TyPgL4+7lNJNI6CB6+pJ6a8J",
      "include_colab_link": true
    },
    "kernelspec": {
      "name": "python3",
      "display_name": "Python 3"
    }
  },
  "cells": [
    {
      "cell_type": "markdown",
      "metadata": {
        "id": "view-in-github",
        "colab_type": "text"
      },
      "source": [
        "<a href=\"https://colab.research.google.com/github/w2j1y12/py11/blob/master/notebook/mid_exam_py11.ipynb\" target=\"_parent\"><img src=\"https://colab.research.google.com/assets/colab-badge.svg\" alt=\"Open In Colab\"/></a>"
      ]
    },
    {
      "cell_type": "markdown",
      "metadata": {
        "id": "cDb1rirJf3de",
        "colab_type": "text"
      },
      "source": [
        "## 파이썬 활용 중간고사 풀이\n"
      ]
    },
    {
      "cell_type": "markdown",
      "metadata": {
        "id": "WEh621Syf81F",
        "colab_type": "text"
      },
      "source": [
        "### 문제1. 다음 식의 연산 결과는? "
      ]
    },
    {
      "cell_type": "code",
      "metadata": {
        "id": "cO0oMOYeLO0L",
        "colab_type": "code",
        "colab": {
          "base_uri": "https://localhost:8080/",
          "height": 35
        },
        "outputId": "af498dde-02cb-4923-cdb6-b451cbcb500c"
      },
      "source": [
        "a = 5\n",
        "b = 3\n",
        "a ** b\n",
        "# + 더하기, - 빼기, * 곱하기, / 나누기, %나머지, ** 제곱이므로 \n",
        "# a ** b = 5^3 = 125 "
      ],
      "execution_count": 1,
      "outputs": [
        {
          "output_type": "execute_result",
          "data": {
            "text/plain": [
              "125"
            ]
          },
          "metadata": {
            "tags": []
          },
          "execution_count": 1
        }
      ]
    },
    {
      "cell_type": "markdown",
      "metadata": {
        "id": "6FK-YGCLLZUB",
        "colab_type": "text"
      },
      "source": [
        "### 문제 2. 다음 문자열 a에 대하여 슬라이싱을 한 결과는?\n",
        "### a = \"Life is too short, You need Python!\"\n",
        "### a[-16:-8]"
      ]
    },
    {
      "cell_type": "code",
      "metadata": {
        "id": "qVEIGMtWMGmy",
        "colab_type": "code",
        "colab": {
          "base_uri": "https://localhost:8080/",
          "height": 35
        },
        "outputId": "6c663033-14e8-4c7e-e423-e1521eda5f76"
      },
      "source": [
        "a = \"Life is too short, You need Python!\"\n",
        "a[-16:-8]\n",
        "# L은 1번째가 아닌 0번째임\n",
        "# '-'가 붙어 뒤에서 부터 숫자 셈\n",
        "# 뛰어쓰기를 포함해서 셈\n",
        "# 따라서 [-16:-8]이므로 'You need'출력"
      ],
      "execution_count": 2,
      "outputs": [
        {
          "output_type": "execute_result",
          "data": {
            "text/plain": [
              "'You need'"
            ]
          },
          "metadata": {
            "tags": []
          },
          "execution_count": 2
        }
      ]
    },
    {
      "cell_type": "markdown",
      "metadata": {
        "id": "vsRJ1KYgM4H4",
        "colab_type": "text"
      },
      "source": [
        "### 문제3. 다음 list a의 인덱싱 결과는?"
      ]
    },
    {
      "cell_type": "code",
      "metadata": {
        "id": "atCr-ehoM9sf",
        "colab_type": "code",
        "colab": {
          "base_uri": "https://localhost:8080/",
          "height": 35
        },
        "outputId": "be39ae2b-78ad-4ecd-bb62-30a6b53f7d98"
      },
      "source": [
        "a = [1, 2, (3, 4),['a','b', ['My', 'Life','Good']]]\n",
        "a[3][-1][0]\n",
        "# 왼쪽부터 순서대로 풀이\n",
        "# a[3] 이므로 ['a', 'b' ['My', 'Life','Good']]\n",
        "# a[3][-1] 이므로 ['My', 'Life','Good']\n",
        "# a[3][-][0]이므로 'My' 출력"
      ],
      "execution_count": 11,
      "outputs": [
        {
          "output_type": "execute_result",
          "data": {
            "text/plain": [
              "'My'"
            ]
          },
          "metadata": {
            "tags": []
          },
          "execution_count": 11
        }
      ]
    },
    {
      "cell_type": "markdown",
      "metadata": {
        "id": "crnQYrWWODOY",
        "colab_type": "text"
      },
      "source": [
        "### 문제4. 다음 tuple t1의 슬라이싱 결과는?"
      ]
    },
    {
      "cell_type": "code",
      "metadata": {
        "id": "-sDXOh1cOJKW",
        "colab_type": "code",
        "colab": {
          "base_uri": "https://localhost:8080/",
          "height": 35
        },
        "outputId": "b748827b-180b-42a9-f5f2-26132298b0de"
      },
      "source": [
        "t1 = (0, 1, \"s\", \"t\", \"u\")\n",
        "t1[2:-2]\n",
        "# 문제2와 마찬가지로 순서대로 숫자를 센다면 's'\n",
        "# tuple이므로 ()안에 들어가고 뒤에 ,(쉼표)도 같이 출력\n",
        "# 틀린 문제"
      ],
      "execution_count": 14,
      "outputs": [
        {
          "output_type": "execute_result",
          "data": {
            "text/plain": [
              "('s',)"
            ]
          },
          "metadata": {
            "tags": []
          },
          "execution_count": 14
        }
      ]
    },
    {
      "cell_type": "markdown",
      "metadata": {
        "id": "xYn35MfBOvQK",
        "colab_type": "text"
      },
      "source": [
        "### 문제5. 다음 bool 값 출력 중 정확한 것은?"
      ]
    },
    {
      "cell_type": "code",
      "metadata": {
        "id": "65azS5FYO0Cn",
        "colab_type": "code",
        "colab": {
          "base_uri": "https://localhost:8080/",
          "height": 35
        },
        "outputId": "821c7ca3-894a-4bd9-96e2-d8492a734c03"
      },
      "source": [
        "bool([0, 1, 2]), bool([0]), bool((0)), bool((0,))\n",
        "# bool([0, 1, 2]) : 요소 o -> True\n",
        "# bool([0]) : 요소 o -> True\n",
        "# bool((0)) : 값이 0으로 요소 x ->에 False\n",
        "# bool((0,)) : 0 뒤 쉼표가 있기 때문에 요소로 인정 -> True"
      ],
      "execution_count": 15,
      "outputs": [
        {
          "output_type": "execute_result",
          "data": {
            "text/plain": [
              "(True, True, False, True)"
            ]
          },
          "metadata": {
            "tags": []
          },
          "execution_count": 15
        }
      ]
    },
    {
      "cell_type": "markdown",
      "metadata": {
        "id": "TyGHppOagNO8",
        "colab_type": "text"
      },
      "source": [
        "### 문제6. 다음 조건문을 1줄 코드로 변경하시오."
      ]
    },
    {
      "cell_type": "code",
      "metadata": {
        "id": "EL9GI_aQf7zi",
        "colab_type": "code",
        "colab": {}
      },
      "source": [
        "score = 80\n",
        "if score >= 60 :\n",
        "  message = \"success\"\n",
        "else :\n",
        "  message = \"failure\""
      ],
      "execution_count": 0,
      "outputs": []
    },
    {
      "cell_type": "code",
      "metadata": {
        "id": "3Uk2vQRNgi58",
        "colab_type": "code",
        "colab": {}
      },
      "source": [
        "score = 80\n",
        "massage = \"success\" if score >= else \"failure\""
      ],
      "execution_count": 0,
      "outputs": []
    },
    {
      "cell_type": "markdown",
      "metadata": {
        "id": "0iTS_-Rsg6kO",
        "colab_type": "text"
      },
      "source": [
        "### 문제7. 다음 코드의 실행 결과는?\n"
      ]
    },
    {
      "cell_type": "code",
      "metadata": {
        "id": "0L3QG_ryg_KW",
        "colab_type": "code",
        "colab": {
          "base_uri": "https://localhost:8080/",
          "height": 35
        },
        "outputId": "42b6089c-e5a9-414c-e9cf-5c28de15dfcb"
      },
      "source": [
        "games = [\"A\", \"B\", \"C\"]\n",
        "\n",
        "for cnt in range(len(games)): # len(games) : games 안에 있는 요소들에 숫자를 매김\n",
        "  print(cnt, games[cnt], end = ',') # end = ',' : 요소 뒤 ,(쉼표) 달아주기"
      ],
      "execution_count": 16,
      "outputs": [
        {
          "output_type": "stream",
          "text": [
            "0 A,1 B,2 C,"
          ],
          "name": "stdout"
        }
      ]
    },
    {
      "cell_type": "markdown",
      "metadata": {
        "id": "ZrfS8Jx2QPpg",
        "colab_type": "text"
      },
      "source": [
        "### 문제8. 다음의 결과가 출력되지 않는 것은?\n",
        "### 'I ate 10 apples. so I was sick for three days.'"
      ]
    },
    {
      "cell_type": "code",
      "metadata": {
        "id": "7eHhDMYiQZPq",
        "colab_type": "code",
        "colab": {
          "base_uri": "https://localhost:8080/",
          "height": 71
        },
        "outputId": "c5e87def-9846-47b7-e215-83540022ca78"
      },
      "source": [
        "number = 10\n",
        "day = \"three\"\n",
        "\n",
        "red = \"I ate {0} apples. so I was sick for {1} days.\".format(10, day)\n",
        "# '숫자로 바로 대입하기'와 '숫자 값을 가진 변수로 대입하기' -> 출력 o\n",
        "\n",
        "blue = f\"I ate {number} apples. so I was sick for {day} days.\"\n",
        "# '숫자 값을 가진 변수로 대입하기' -> 출력 o\n",
        "\n",
        "yellow = f\"I ate {number} apples. so I was sick for {'three'} days.\"\n",
        "# '숫자 값을 가진 변수로 대입하기' 와 '문자열 바로 대입하기' -> 출력 o\n",
        "\n",
        "# green = \"I ate {0} apples. so I was sick for {1} days.\".format(number = 10,day)\n",
        "# {name} 형태를 사용할 경우 format 함수에는 반드시 같은 형태의 입력값이 있어야 함\n",
        "#  따라서 green -> 출력 x\n",
        "\n",
        "print(red)\n",
        "print(blue)\n",
        "print(yellow)"
      ],
      "execution_count": 45,
      "outputs": [
        {
          "output_type": "stream",
          "text": [
            "I ate 10 apples. so I was sick for three days.\n",
            "I ate 10 apples. so I was sick for three days.\n",
            "I ate 10 apples. so I was sick for three days.\n"
          ],
          "name": "stdout"
        }
      ]
    },
    {
      "cell_type": "markdown",
      "metadata": {
        "id": "0CBr8tMyRnbh",
        "colab_type": "text"
      },
      "source": [
        "### 문제9. 리스트 내포를 상요해 1부처 1000이하의 자연수 중 5의 배수의 합을 구하는 한 줄 코드를 작성하시오."
      ]
    },
    {
      "cell_type": "code",
      "metadata": {
        "id": "xMFMjLm1RwAM",
        "colab_type": "code",
        "colab": {
          "base_uri": "https://localhost:8080/",
          "height": 35
        },
        "outputId": "e042e06f-b0d6-4ee1-fe69-66014ea62b33"
      },
      "source": [
        "sum([num for num in range(1,1001) if num % 5 == 0])\n",
        "# range(1,1001) : 1 부터 1000까지 해당 \n",
        "# num % 5 == 0 : 5로 나눈 나머지가 0이면 5의 배수"
      ],
      "execution_count": 33,
      "outputs": [
        {
          "output_type": "execute_result",
          "data": {
            "text/plain": [
              "100500"
            ]
          },
          "metadata": {
            "tags": []
          },
          "execution_count": 33
        }
      ]
    },
    {
      "cell_type": "markdown",
      "metadata": {
        "id": "sQ-2xE-WSB3g",
        "colab_type": "text"
      },
      "source": [
        "### 문제10. 4개 과목의 평균 성적을 구하시오. [a], [b]에 적합한 코드는?\n",
        "##### subjects = ['python', 'english', 'math', 'science']\n",
        "##### scores = [ 88, 77, 66, 95]\n",
        "##### total = 0\n",
        "##### for subject, score in [a]._________(subjects,scores):\n",
        "##### /t total == score\n",
        "##### /t print(subject,score)\n",
        "\n",
        "##### print(\"평균 좀수 = {0}.format([b]._______))"
      ]
    },
    {
      "cell_type": "code",
      "metadata": {
        "id": "Bayyq7iRSJ9e",
        "colab_type": "code",
        "colab": {
          "base_uri": "https://localhost:8080/",
          "height": 107
        },
        "outputId": "e0cfc968-460a-47dc-ce1b-520e6e432740"
      },
      "source": [
        "subjects = ['python', 'english', 'math', 'science']\n",
        "scores = [ 88, 77, 66, 95]\n",
        "total = 0\n",
        "for subject, score in zip(subjects,scores): \n",
        "  total += score # 왼쪽부터 차례대로 더해짐.\n",
        "  print(subject,score)\n",
        "\n",
        "print(\"평균 점수 = {0}\".format(total/len(subjects))) \n",
        "# total/len(subjects) : 총 합계인 total에 len(subjects)를 이용하여 과목 수만큼 나눠주면 평균"
      ],
      "execution_count": 28,
      "outputs": [
        {
          "output_type": "stream",
          "text": [
            "python 88\n",
            "english 77\n",
            "math 66\n",
            "science 95\n",
            "평균 점수 = 81.5\n"
          ],
          "name": "stdout"
        }
      ]
    }
  ]
}